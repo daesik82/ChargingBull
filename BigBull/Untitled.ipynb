{
 "cells": [
  {
   "cell_type": "code",
   "execution_count": 5,
   "metadata": {
    "collapsed": true
   },
   "outputs": [],
   "source": [
    "from sqlalchemy import create_engine\n",
    "from sqlalchemy.ext.declarative import declarative_base\n",
    "from sqlalchemy.orm import sessionmaker\n",
    "\n",
    "import pandas as pd\n",
    "import numpy as np"
   ]
  },
  {
   "cell_type": "code",
   "execution_count": 2,
   "metadata": {
    "collapsed": true
   },
   "outputs": [],
   "source": [
    "a = [[1810715.7, 2140750.2, 2304229.6, 2421795.2, 2621743.2], [126583.1, 127436.0, 103208.6, 126168.1, 145072.0], [35212.6, 9027.2, 239.9, 1936.0, 11791.1], [872690.2, 1107602.7, 1151460.3, 1248147.3, 1414297.0], [469330.5, 513154.1, 520139.1, 505029.1, 547041.0], [1214802.1, 1500160.1, 1680881.9, 1790598.1, 1929630.3]]"
   ]
  },
  {
   "cell_type": "code",
   "execution_count": 3,
   "metadata": {},
   "outputs": [
    {
     "data": {
      "text/plain": [
       "[[1810715.7, 2140750.2, 2304229.6, 2421795.2, 2621743.2],\n",
       " [126583.1, 127436.0, 103208.6, 126168.1, 145072.0],\n",
       " [35212.6, 9027.2, 239.9, 1936.0, 11791.1],\n",
       " [872690.2, 1107602.7, 1151460.3, 1248147.3, 1414297.0],\n",
       " [469330.5, 513154.1, 520139.1, 505029.1, 547041.0],\n",
       " [1214802.1, 1500160.1, 1680881.9, 1790598.1, 1929630.3]]"
      ]
     },
     "execution_count": 3,
     "metadata": {},
     "output_type": "execute_result"
    }
   ],
   "source": [
    "a"
   ]
  },
  {
   "cell_type": "code",
   "execution_count": 4,
   "metadata": {
    "collapsed": true
   },
   "outputs": [],
   "source": [
    "b = [[290493.4, 367850.1, 250250.7, 264134.4, 292406.7], [-230.4, 8155.0, 15416.2, -20374.9, 7744.5], [2011036.1, 2286926.7, 2062059.9, 2006534.8, 2018667.5], [744516.8, 909963.6, 779271.9, 771713.6, 815890.3], [1266519.3, 1376963.1, 1282788.0, 1234821.2, 1202777.2]]\n",
    "c = [[2011036.1, 2286926.7, 2062059.9, 2006534.8, 2018667.5]]"
   ]
  },
  {
   "cell_type": "code",
   "execution_count": 5,
   "metadata": {},
   "outputs": [
    {
     "data": {
      "text/plain": [
       "[[290493.4, 367850.1, 250250.7, 264134.4, 292406.7],\n",
       " [-230.4, 8155.0, 15416.2, -20374.9, 7744.5],\n",
       " [2011036.1, 2286926.7, 2062059.9, 2006534.8, 2018667.5],\n",
       " [744516.8, 909963.6, 779271.9, 771713.6, 815890.3],\n",
       " [1266519.3, 1376963.1, 1282788.0, 1234821.2, 1202777.2]]"
      ]
     },
     "execution_count": 5,
     "metadata": {},
     "output_type": "execute_result"
    }
   ],
   "source": [
    "b"
   ]
  },
  {
   "cell_type": "code",
   "execution_count": 6,
   "metadata": {},
   "outputs": [
    {
     "data": {
      "text/plain": [
       "[[2011036.1, 2286926.7, 2062059.9, 2006534.8, 2018667.5]]"
      ]
     },
     "execution_count": 6,
     "metadata": {},
     "output_type": "execute_result"
    }
   ],
   "source": [
    "c"
   ]
  },
  {
   "cell_type": "code",
   "execution_count": 7,
   "metadata": {
    "collapsed": true
   },
   "outputs": [],
   "source": [
    "code = '005360'"
   ]
  },
  {
   "cell_type": "code",
   "execution_count": 8,
   "metadata": {
    "collapsed": true
   },
   "outputs": [],
   "source": [
    "year = ['2012', '2013', '2014', '2015', '2016']"
   ]
  },
  {
   "cell_type": "code",
   "execution_count": 9,
   "metadata": {},
   "outputs": [
    {
     "data": {
      "text/plain": [
       "1810715.7"
      ]
     },
     "execution_count": 9,
     "metadata": {},
     "output_type": "execute_result"
    }
   ],
   "source": [
    "a[0][0]"
   ]
  },
  {
   "cell_type": "code",
   "execution_count": 10,
   "metadata": {},
   "outputs": [
    {
     "name": "stdout",
     "output_type": "stream",
     "text": [
      "[1810715.7, 2140750.2, 2304229.6, 2421795.2, 2621743.2]\n",
      "[126583.1, 127436.0, 103208.6, 126168.1, 145072.0]\n",
      "[35212.6, 9027.2, 239.9, 1936.0, 11791.1]\n",
      "[872690.2, 1107602.7, 1151460.3, 1248147.3, 1414297.0]\n",
      "[469330.5, 513154.1, 520139.1, 505029.1, 547041.0]\n",
      "[1214802.1, 1500160.1, 1680881.9, 1790598.1, 1929630.3]\n"
     ]
    }
   ],
   "source": [
    "for i in a: \n",
    "    print(i)"
   ]
  },
  {
   "cell_type": "code",
   "execution_count": 11,
   "metadata": {
    "collapsed": true
   },
   "outputs": [],
   "source": [
    "df = pd.DataFrame(columns = ('a', 'b', 'c'))"
   ]
  },
  {
   "cell_type": "code",
   "execution_count": 12,
   "metadata": {},
   "outputs": [
    {
     "data": {
      "text/html": [
       "<div>\n",
       "<style>\n",
       "    .dataframe thead tr:only-child th {\n",
       "        text-align: right;\n",
       "    }\n",
       "\n",
       "    .dataframe thead th {\n",
       "        text-align: left;\n",
       "    }\n",
       "\n",
       "    .dataframe tbody tr th {\n",
       "        vertical-align: top;\n",
       "    }\n",
       "</style>\n",
       "<table border=\"1\" class=\"dataframe\">\n",
       "  <thead>\n",
       "    <tr style=\"text-align: right;\">\n",
       "      <th></th>\n",
       "      <th>a</th>\n",
       "      <th>b</th>\n",
       "      <th>c</th>\n",
       "    </tr>\n",
       "  </thead>\n",
       "  <tbody>\n",
       "  </tbody>\n",
       "</table>\n",
       "</div>"
      ],
      "text/plain": [
       "Empty DataFrame\n",
       "Columns: [a, b, c]\n",
       "Index: []"
      ]
     },
     "execution_count": 12,
     "metadata": {},
     "output_type": "execute_result"
    }
   ],
   "source": [
    "df"
   ]
  },
  {
   "cell_type": "code",
   "execution_count": 13,
   "metadata": {},
   "outputs": [
    {
     "data": {
      "text/plain": [
       "['005360', '005360', '005360', '005360', '005360']"
      ]
     },
     "execution_count": 13,
     "metadata": {},
     "output_type": "execute_result"
    }
   ],
   "source": [
    "[code]*5"
   ]
  },
  {
   "cell_type": "code",
   "execution_count": 14,
   "metadata": {
    "collapsed": true
   },
   "outputs": [],
   "source": [
    "d = a.append(b) "
   ]
  },
  {
   "cell_type": "code",
   "execution_count": 15,
   "metadata": {},
   "outputs": [
    {
     "data": {
      "text/plain": [
       "[[1810715.7, 2140750.2, 2304229.6, 2421795.2, 2621743.2],\n",
       " [126583.1, 127436.0, 103208.6, 126168.1, 145072.0],\n",
       " [35212.6, 9027.2, 239.9, 1936.0, 11791.1],\n",
       " [872690.2, 1107602.7, 1151460.3, 1248147.3, 1414297.0],\n",
       " [469330.5, 513154.1, 520139.1, 505029.1, 547041.0],\n",
       " [1214802.1, 1500160.1, 1680881.9, 1790598.1, 1929630.3],\n",
       " [[290493.4, 367850.1, 250250.7, 264134.4, 292406.7],\n",
       "  [-230.4, 8155.0, 15416.2, -20374.9, 7744.5],\n",
       "  [2011036.1, 2286926.7, 2062059.9, 2006534.8, 2018667.5],\n",
       "  [744516.8, 909963.6, 779271.9, 771713.6, 815890.3],\n",
       "  [1266519.3, 1376963.1, 1282788.0, 1234821.2, 1202777.2]]]"
      ]
     },
     "execution_count": 15,
     "metadata": {},
     "output_type": "execute_result"
    }
   ],
   "source": [
    "a"
   ]
  },
  {
   "cell_type": "code",
   "execution_count": 16,
   "metadata": {},
   "outputs": [
    {
     "data": {
      "text/plain": [
       "[[1810715.7, 2140750.2, 2304229.6, 2421795.2, 2621743.2],\n",
       " [126583.1, 127436.0, 103208.6, 126168.1, 145072.0],\n",
       " [35212.6, 9027.2, 239.9, 1936.0, 11791.1],\n",
       " [872690.2, 1107602.7, 1151460.3, 1248147.3, 1414297.0],\n",
       " [469330.5, 513154.1, 520139.1, 505029.1, 547041.0],\n",
       " [1214802.1, 1500160.1, 1680881.9, 1790598.1, 1929630.3],\n",
       " [[290493.4, 367850.1, 250250.7, 264134.4, 292406.7],\n",
       "  [-230.4, 8155.0, 15416.2, -20374.9, 7744.5],\n",
       "  [2011036.1, 2286926.7, 2062059.9, 2006534.8, 2018667.5],\n",
       "  [744516.8, 909963.6, 779271.9, 771713.6, 815890.3],\n",
       "  [1266519.3, 1376963.1, 1282788.0, 1234821.2, 1202777.2]],\n",
       " [290493.4, 367850.1, 250250.7, 264134.4, 292406.7],\n",
       " [-230.4, 8155.0, 15416.2, -20374.9, 7744.5],\n",
       " [2011036.1, 2286926.7, 2062059.9, 2006534.8, 2018667.5],\n",
       " [744516.8, 909963.6, 779271.9, 771713.6, 815890.3],\n",
       " [1266519.3, 1376963.1, 1282788.0, 1234821.2, 1202777.2]]"
      ]
     },
     "execution_count": 16,
     "metadata": {},
     "output_type": "execute_result"
    }
   ],
   "source": [
    "a + b"
   ]
  },
  {
   "cell_type": "code",
   "execution_count": 17,
   "metadata": {
    "collapsed": true
   },
   "outputs": [],
   "source": [
    "vals = [[1810715.7, 2140750.2, 2304229.6, 2421795.2, 2621743.2], [126583.1, 127436.0, 103208.6, 126168.1, 145072.0], [35212.6, 9027.2, 239.9, 1936.0, 11791.1], [872690.2, 1107602.7, 1151460.3, 1248147.3, 1414297.0], [469330.5, 513154.1, 520139.1, 505029.1, 547041.0], [1214802.1, 1500160.1, 1680881.9, 1790598.1, 1929630.3], [290493.4, 367850.1, 250250.7, 264134.4, 292406.7], [-230.4, 8155.0, 15416.2, -20374.9, 7744.5], [2011036.1, 2286926.7, 2062059.9, 2006534.8, 2018667.5], [744516.8, 909963.6, 779271.9, 771713.6, 815890.3], [1266519.3, 1376963.1, 1282788.0, 1234821.2, 1202777.2], [2011036.1, 2286926.7, 2062059.9, 2006534.8, 2018667.5]]"
   ]
  },
  {
   "cell_type": "code",
   "execution_count": 18,
   "metadata": {},
   "outputs": [
    {
     "data": {
      "text/plain": [
       "[[1810715.7, 2140750.2, 2304229.6, 2421795.2, 2621743.2],\n",
       " [126583.1, 127436.0, 103208.6, 126168.1, 145072.0],\n",
       " [35212.6, 9027.2, 239.9, 1936.0, 11791.1],\n",
       " [872690.2, 1107602.7, 1151460.3, 1248147.3, 1414297.0],\n",
       " [469330.5, 513154.1, 520139.1, 505029.1, 547041.0],\n",
       " [1214802.1, 1500160.1, 1680881.9, 1790598.1, 1929630.3],\n",
       " [290493.4, 367850.1, 250250.7, 264134.4, 292406.7],\n",
       " [-230.4, 8155.0, 15416.2, -20374.9, 7744.5],\n",
       " [2011036.1, 2286926.7, 2062059.9, 2006534.8, 2018667.5],\n",
       " [744516.8, 909963.6, 779271.9, 771713.6, 815890.3],\n",
       " [1266519.3, 1376963.1, 1282788.0, 1234821.2, 1202777.2],\n",
       " [2011036.1, 2286926.7, 2062059.9, 2006534.8, 2018667.5]]"
      ]
     },
     "execution_count": 18,
     "metadata": {},
     "output_type": "execute_result"
    }
   ],
   "source": [
    "vals"
   ]
  },
  {
   "cell_type": "code",
   "execution_count": 19,
   "metadata": {
    "collapsed": true
   },
   "outputs": [],
   "source": [
    "code = '005930'\n",
    "year = ['2012', '2013', '2014', '2015', '2016'] "
   ]
  },
  {
   "cell_type": "code",
   "execution_count": 20,
   "metadata": {
    "collapsed": true
   },
   "outputs": [],
   "source": [
    "df1 = pd.DataFrame(columns = ('code', 'm_ics', 'w_ics', 'year', \\\n",
    "                              'total_asset', 'lt_debt', 'lt_borrowing', 'current_asset', 'current_liabilities', 'shareholder_equity', \\\n",
    "                              'operating_profit', 'extra_income', 'total_sales', 'gross_profit', 'cogs', \\\n",
    "                              'cf_operation', \\\n",
    "                              'f_roa', 'f_cfo', 'f_droa', 'f_accrual', 'f_accrual', 'f_dlever', 'f_dliquid', 'f_equityoffer', 'f_dmargin', 'f_dturnover', 'f_total'))"
   ]
  },
  {
   "cell_type": "code",
   "execution_count": 21,
   "metadata": {},
   "outputs": [
    {
     "ename": "AssertionError",
     "evalue": "14 columns passed, passed data had 30 columns",
     "output_type": "error",
     "traceback": [
      "\u001b[0;31m---------------------------------------------------------------------------\u001b[0m",
      "\u001b[0;31mAssertionError\u001b[0m                            Traceback (most recent call last)",
      "\u001b[0;32m<ipython-input-21-b654f53aa008>\u001b[0m in \u001b[0;36m<module>\u001b[0;34m()\u001b[0m\n\u001b[0;32m----> 1\u001b[0;31m \u001b[0mdf_individual\u001b[0m \u001b[0;34m=\u001b[0m \u001b[0mpd\u001b[0m\u001b[0;34m.\u001b[0m\u001b[0mDataFrame\u001b[0m\u001b[0;34m(\u001b[0m\u001b[0;34m[\u001b[0m\u001b[0mlist\u001b[0m\u001b[0;34m(\u001b[0m\u001b[0mcode\u001b[0m\u001b[0;34m)\u001b[0m\u001b[0;34m*\u001b[0m\u001b[0;36m5\u001b[0m\u001b[0;34m,\u001b[0m \u001b[0myear\u001b[0m\u001b[0;34m,\u001b[0m \u001b[0mvals\u001b[0m\u001b[0;34m[\u001b[0m\u001b[0;36m0\u001b[0m\u001b[0;34m]\u001b[0m\u001b[0;34m,\u001b[0m \u001b[0mvals\u001b[0m\u001b[0;34m[\u001b[0m\u001b[0;36m1\u001b[0m\u001b[0;34m]\u001b[0m\u001b[0;34m,\u001b[0m \u001b[0mvals\u001b[0m\u001b[0;34m[\u001b[0m\u001b[0;36m2\u001b[0m\u001b[0;34m]\u001b[0m\u001b[0;34m,\u001b[0m \u001b[0mvals\u001b[0m\u001b[0;34m[\u001b[0m\u001b[0;36m3\u001b[0m\u001b[0;34m]\u001b[0m\u001b[0;34m,\u001b[0m \u001b[0mvals\u001b[0m\u001b[0;34m[\u001b[0m\u001b[0;36m4\u001b[0m\u001b[0;34m]\u001b[0m\u001b[0;34m,\u001b[0m \u001b[0mvals\u001b[0m\u001b[0;34m[\u001b[0m\u001b[0;36m5\u001b[0m\u001b[0;34m]\u001b[0m\u001b[0;34m,\u001b[0m \u001b[0mvals\u001b[0m\u001b[0;34m[\u001b[0m\u001b[0;36m6\u001b[0m\u001b[0;34m]\u001b[0m\u001b[0;34m,\u001b[0m \u001b[0mvals\u001b[0m\u001b[0;34m[\u001b[0m\u001b[0;36m7\u001b[0m\u001b[0;34m]\u001b[0m\u001b[0;34m,\u001b[0m \u001b[0mvals\u001b[0m\u001b[0;34m[\u001b[0m\u001b[0;36m8\u001b[0m\u001b[0;34m]\u001b[0m\u001b[0;34m]\u001b[0m\u001b[0;34m,\u001b[0m                                   \u001b[0mcolumns\u001b[0m \u001b[0;34m=\u001b[0m \u001b[0;34m(\u001b[0m\u001b[0;34m'code'\u001b[0m\u001b[0;34m,\u001b[0m \u001b[0;34m'year'\u001b[0m\u001b[0;34m,\u001b[0m \u001b[0;34m'total_asset'\u001b[0m\u001b[0;34m,\u001b[0m \u001b[0;34m'lt_debt'\u001b[0m\u001b[0;34m,\u001b[0m \u001b[0;34m'lt_borrowing'\u001b[0m\u001b[0;34m,\u001b[0m \u001b[0;34m'current_asset'\u001b[0m\u001b[0;34m,\u001b[0m \u001b[0;34m'current_liabilities'\u001b[0m\u001b[0;34m,\u001b[0m \u001b[0;34m'shareholder_equity'\u001b[0m\u001b[0;34m,\u001b[0m \u001b[0;34m'operating_profit'\u001b[0m\u001b[0;34m,\u001b[0m \u001b[0;34m'extra_income'\u001b[0m\u001b[0;34m,\u001b[0m \u001b[0;34m'total_sales'\u001b[0m\u001b[0;34m,\u001b[0m \u001b[0;34m'gross_profit'\u001b[0m\u001b[0;34m,\u001b[0m \u001b[0;34m'cogs'\u001b[0m\u001b[0;34m,\u001b[0m \u001b[0;34m'cf_operation'\u001b[0m\u001b[0;34m)\u001b[0m\u001b[0;34m)\u001b[0m\u001b[0;34m\u001b[0m\u001b[0m\n\u001b[0m",
      "\u001b[0;32m~/anaconda3/envs/Crawler_Env/lib/python3.6/site-packages/pandas/core/frame.py\u001b[0m in \u001b[0;36m__init__\u001b[0;34m(self, data, index, columns, dtype, copy)\u001b[0m\n\u001b[1;32m    312\u001b[0m                     \u001b[0;32mif\u001b[0m \u001b[0mis_named_tuple\u001b[0m\u001b[0;34m(\u001b[0m\u001b[0mdata\u001b[0m\u001b[0;34m[\u001b[0m\u001b[0;36m0\u001b[0m\u001b[0;34m]\u001b[0m\u001b[0;34m)\u001b[0m \u001b[0;32mand\u001b[0m \u001b[0mcolumns\u001b[0m \u001b[0;32mis\u001b[0m \u001b[0;32mNone\u001b[0m\u001b[0;34m:\u001b[0m\u001b[0;34m\u001b[0m\u001b[0m\n\u001b[1;32m    313\u001b[0m                         \u001b[0mcolumns\u001b[0m \u001b[0;34m=\u001b[0m \u001b[0mdata\u001b[0m\u001b[0;34m[\u001b[0m\u001b[0;36m0\u001b[0m\u001b[0;34m]\u001b[0m\u001b[0;34m.\u001b[0m\u001b[0m_fields\u001b[0m\u001b[0;34m\u001b[0m\u001b[0m\n\u001b[0;32m--> 314\u001b[0;31m                     \u001b[0marrays\u001b[0m\u001b[0;34m,\u001b[0m \u001b[0mcolumns\u001b[0m \u001b[0;34m=\u001b[0m \u001b[0m_to_arrays\u001b[0m\u001b[0;34m(\u001b[0m\u001b[0mdata\u001b[0m\u001b[0;34m,\u001b[0m \u001b[0mcolumns\u001b[0m\u001b[0;34m,\u001b[0m \u001b[0mdtype\u001b[0m\u001b[0;34m=\u001b[0m\u001b[0mdtype\u001b[0m\u001b[0;34m)\u001b[0m\u001b[0;34m\u001b[0m\u001b[0m\n\u001b[0m\u001b[1;32m    315\u001b[0m                     \u001b[0mcolumns\u001b[0m \u001b[0;34m=\u001b[0m \u001b[0m_ensure_index\u001b[0m\u001b[0;34m(\u001b[0m\u001b[0mcolumns\u001b[0m\u001b[0;34m)\u001b[0m\u001b[0;34m\u001b[0m\u001b[0m\n\u001b[1;32m    316\u001b[0m \u001b[0;34m\u001b[0m\u001b[0m\n",
      "\u001b[0;32m~/anaconda3/envs/Crawler_Env/lib/python3.6/site-packages/pandas/core/frame.py\u001b[0m in \u001b[0;36m_to_arrays\u001b[0;34m(data, columns, coerce_float, dtype)\u001b[0m\n\u001b[1;32m   5615\u001b[0m     \u001b[0;32mif\u001b[0m \u001b[0misinstance\u001b[0m\u001b[0;34m(\u001b[0m\u001b[0mdata\u001b[0m\u001b[0;34m[\u001b[0m\u001b[0;36m0\u001b[0m\u001b[0;34m]\u001b[0m\u001b[0;34m,\u001b[0m \u001b[0;34m(\u001b[0m\u001b[0mlist\u001b[0m\u001b[0;34m,\u001b[0m \u001b[0mtuple\u001b[0m\u001b[0;34m)\u001b[0m\u001b[0;34m)\u001b[0m\u001b[0;34m:\u001b[0m\u001b[0;34m\u001b[0m\u001b[0m\n\u001b[1;32m   5616\u001b[0m         return _list_to_arrays(data, columns, coerce_float=coerce_float,\n\u001b[0;32m-> 5617\u001b[0;31m                                dtype=dtype)\n\u001b[0m\u001b[1;32m   5618\u001b[0m     \u001b[0;32melif\u001b[0m \u001b[0misinstance\u001b[0m\u001b[0;34m(\u001b[0m\u001b[0mdata\u001b[0m\u001b[0;34m[\u001b[0m\u001b[0;36m0\u001b[0m\u001b[0;34m]\u001b[0m\u001b[0;34m,\u001b[0m \u001b[0mcollections\u001b[0m\u001b[0;34m.\u001b[0m\u001b[0mMapping\u001b[0m\u001b[0;34m)\u001b[0m\u001b[0;34m:\u001b[0m\u001b[0;34m\u001b[0m\u001b[0m\n\u001b[1;32m   5619\u001b[0m         return _list_of_dict_to_arrays(data, columns,\n",
      "\u001b[0;32m~/anaconda3/envs/Crawler_Env/lib/python3.6/site-packages/pandas/core/frame.py\u001b[0m in \u001b[0;36m_list_to_arrays\u001b[0;34m(data, columns, coerce_float, dtype)\u001b[0m\n\u001b[1;32m   5694\u001b[0m         \u001b[0mcontent\u001b[0m \u001b[0;34m=\u001b[0m \u001b[0mlist\u001b[0m\u001b[0;34m(\u001b[0m\u001b[0mlib\u001b[0m\u001b[0;34m.\u001b[0m\u001b[0mto_object_array\u001b[0m\u001b[0;34m(\u001b[0m\u001b[0mdata\u001b[0m\u001b[0;34m)\u001b[0m\u001b[0;34m.\u001b[0m\u001b[0mT\u001b[0m\u001b[0;34m)\u001b[0m\u001b[0;34m\u001b[0m\u001b[0m\n\u001b[1;32m   5695\u001b[0m     return _convert_object_array(content, columns, dtype=dtype,\n\u001b[0;32m-> 5696\u001b[0;31m                                  coerce_float=coerce_float)\n\u001b[0m\u001b[1;32m   5697\u001b[0m \u001b[0;34m\u001b[0m\u001b[0m\n\u001b[1;32m   5698\u001b[0m \u001b[0;34m\u001b[0m\u001b[0m\n",
      "\u001b[0;32m~/anaconda3/envs/Crawler_Env/lib/python3.6/site-packages/pandas/core/frame.py\u001b[0m in \u001b[0;36m_convert_object_array\u001b[0;34m(content, columns, coerce_float, dtype)\u001b[0m\n\u001b[1;32m   5753\u001b[0m             \u001b[0;31m# caller's responsibility to check for this...\u001b[0m\u001b[0;34m\u001b[0m\u001b[0;34m\u001b[0m\u001b[0m\n\u001b[1;32m   5754\u001b[0m             raise AssertionError('%d columns passed, passed data had %s '\n\u001b[0;32m-> 5755\u001b[0;31m                                  'columns' % (len(columns), len(content)))\n\u001b[0m\u001b[1;32m   5756\u001b[0m \u001b[0;34m\u001b[0m\u001b[0m\n\u001b[1;32m   5757\u001b[0m     \u001b[0;31m# provide soft conversion of object dtypes\u001b[0m\u001b[0;34m\u001b[0m\u001b[0;34m\u001b[0m\u001b[0m\n",
      "\u001b[0;31mAssertionError\u001b[0m: 14 columns passed, passed data had 30 columns"
     ]
    }
   ],
   "source": [
    "df_individual = pd.DataFrame([list(code)*5, year, vals[0], vals[1], vals[2], vals[3], vals[4], vals[5], vals[6], vals[7], vals[8]], \\\n",
    "                                  columns = ('code', 'year', 'total_asset', 'lt_debt', 'lt_borrowing', 'current_asset', 'current_liabilities', 'shareholder_equity', 'operating_profit', 'extra_income', 'total_sales', 'gross_profit', 'cogs', 'cf_operation'))"
   ]
  },
  {
   "cell_type": "code",
   "execution_count": 31,
   "metadata": {},
   "outputs": [
    {
     "data": {
      "text/plain": [
       "[1810715.7, 2140750.2, 2304229.6, 2421795.2, 2621743.2]"
      ]
     },
     "execution_count": 31,
     "metadata": {},
     "output_type": "execute_result"
    }
   ],
   "source": [
    "vals[0]"
   ]
  },
  {
   "cell_type": "code",
   "execution_count": 33,
   "metadata": {
    "collapsed": true
   },
   "outputs": [],
   "source": [
    "df2 = pd.DataFrame(columns = ('code', 'year', 'total_asset', 'lt_debt', 'lt_borrowing', 'current_asset', 'current_liabilities', 'shareholder_equity', 'operating_profit', 'extra_income', 'total_sales', 'gross_profit', 'cogs', 'cf_operation'))"
   ]
  },
  {
   "cell_type": "code",
   "execution_count": 34,
   "metadata": {
    "collapsed": true
   },
   "outputs": [],
   "source": [
    "df2['code'] = [code]*5"
   ]
  },
  {
   "cell_type": "code",
   "execution_count": 35,
   "metadata": {
    "collapsed": true
   },
   "outputs": [],
   "source": [
    "df2['total_asset'] = vals[0]"
   ]
  },
  {
   "cell_type": "code",
   "execution_count": 36,
   "metadata": {},
   "outputs": [
    {
     "data": {
      "text/html": [
       "<div>\n",
       "<style>\n",
       "    .dataframe thead tr:only-child th {\n",
       "        text-align: right;\n",
       "    }\n",
       "\n",
       "    .dataframe thead th {\n",
       "        text-align: left;\n",
       "    }\n",
       "\n",
       "    .dataframe tbody tr th {\n",
       "        vertical-align: top;\n",
       "    }\n",
       "</style>\n",
       "<table border=\"1\" class=\"dataframe\">\n",
       "  <thead>\n",
       "    <tr style=\"text-align: right;\">\n",
       "      <th></th>\n",
       "      <th>code</th>\n",
       "      <th>year</th>\n",
       "      <th>total_asset</th>\n",
       "      <th>lt_debt</th>\n",
       "      <th>lt_borrowing</th>\n",
       "      <th>current_asset</th>\n",
       "      <th>current_liabilities</th>\n",
       "      <th>shareholder_equity</th>\n",
       "      <th>operating_profit</th>\n",
       "      <th>extra_income</th>\n",
       "      <th>total_sales</th>\n",
       "      <th>gross_profit</th>\n",
       "      <th>cogs</th>\n",
       "      <th>cf_operation</th>\n",
       "    </tr>\n",
       "  </thead>\n",
       "  <tbody>\n",
       "    <tr>\n",
       "      <th>0</th>\n",
       "      <td>005930</td>\n",
       "      <td>NaN</td>\n",
       "      <td>1810715.7</td>\n",
       "      <td>NaN</td>\n",
       "      <td>NaN</td>\n",
       "      <td>NaN</td>\n",
       "      <td>NaN</td>\n",
       "      <td>NaN</td>\n",
       "      <td>NaN</td>\n",
       "      <td>NaN</td>\n",
       "      <td>NaN</td>\n",
       "      <td>NaN</td>\n",
       "      <td>NaN</td>\n",
       "      <td>NaN</td>\n",
       "    </tr>\n",
       "    <tr>\n",
       "      <th>1</th>\n",
       "      <td>005930</td>\n",
       "      <td>NaN</td>\n",
       "      <td>2140750.2</td>\n",
       "      <td>NaN</td>\n",
       "      <td>NaN</td>\n",
       "      <td>NaN</td>\n",
       "      <td>NaN</td>\n",
       "      <td>NaN</td>\n",
       "      <td>NaN</td>\n",
       "      <td>NaN</td>\n",
       "      <td>NaN</td>\n",
       "      <td>NaN</td>\n",
       "      <td>NaN</td>\n",
       "      <td>NaN</td>\n",
       "    </tr>\n",
       "    <tr>\n",
       "      <th>2</th>\n",
       "      <td>005930</td>\n",
       "      <td>NaN</td>\n",
       "      <td>2304229.6</td>\n",
       "      <td>NaN</td>\n",
       "      <td>NaN</td>\n",
       "      <td>NaN</td>\n",
       "      <td>NaN</td>\n",
       "      <td>NaN</td>\n",
       "      <td>NaN</td>\n",
       "      <td>NaN</td>\n",
       "      <td>NaN</td>\n",
       "      <td>NaN</td>\n",
       "      <td>NaN</td>\n",
       "      <td>NaN</td>\n",
       "    </tr>\n",
       "    <tr>\n",
       "      <th>3</th>\n",
       "      <td>005930</td>\n",
       "      <td>NaN</td>\n",
       "      <td>2421795.2</td>\n",
       "      <td>NaN</td>\n",
       "      <td>NaN</td>\n",
       "      <td>NaN</td>\n",
       "      <td>NaN</td>\n",
       "      <td>NaN</td>\n",
       "      <td>NaN</td>\n",
       "      <td>NaN</td>\n",
       "      <td>NaN</td>\n",
       "      <td>NaN</td>\n",
       "      <td>NaN</td>\n",
       "      <td>NaN</td>\n",
       "    </tr>\n",
       "    <tr>\n",
       "      <th>4</th>\n",
       "      <td>005930</td>\n",
       "      <td>NaN</td>\n",
       "      <td>2621743.2</td>\n",
       "      <td>NaN</td>\n",
       "      <td>NaN</td>\n",
       "      <td>NaN</td>\n",
       "      <td>NaN</td>\n",
       "      <td>NaN</td>\n",
       "      <td>NaN</td>\n",
       "      <td>NaN</td>\n",
       "      <td>NaN</td>\n",
       "      <td>NaN</td>\n",
       "      <td>NaN</td>\n",
       "      <td>NaN</td>\n",
       "    </tr>\n",
       "  </tbody>\n",
       "</table>\n",
       "</div>"
      ],
      "text/plain": [
       "     code year  total_asset lt_debt lt_borrowing current_asset  \\\n",
       "0  005930  NaN    1810715.7     NaN          NaN           NaN   \n",
       "1  005930  NaN    2140750.2     NaN          NaN           NaN   \n",
       "2  005930  NaN    2304229.6     NaN          NaN           NaN   \n",
       "3  005930  NaN    2421795.2     NaN          NaN           NaN   \n",
       "4  005930  NaN    2621743.2     NaN          NaN           NaN   \n",
       "\n",
       "  current_liabilities shareholder_equity operating_profit extra_income  \\\n",
       "0                 NaN                NaN              NaN          NaN   \n",
       "1                 NaN                NaN              NaN          NaN   \n",
       "2                 NaN                NaN              NaN          NaN   \n",
       "3                 NaN                NaN              NaN          NaN   \n",
       "4                 NaN                NaN              NaN          NaN   \n",
       "\n",
       "  total_sales gross_profit cogs cf_operation  \n",
       "0         NaN          NaN  NaN          NaN  \n",
       "1         NaN          NaN  NaN          NaN  \n",
       "2         NaN          NaN  NaN          NaN  \n",
       "3         NaN          NaN  NaN          NaN  \n",
       "4         NaN          NaN  NaN          NaN  "
      ]
     },
     "execution_count": 36,
     "metadata": {},
     "output_type": "execute_result"
    }
   ],
   "source": [
    "df2"
   ]
  },
  {
   "cell_type": "code",
   "execution_count": 22,
   "metadata": {
    "collapsed": true
   },
   "outputs": [],
   "source": [
    "a = [[1810715.7, 2140750.2, 2304229.6, 2421795.2, 2621743.2], [126583.1, 127436.0, 103208.6, 126168.1, 145072.0], [35212.6, 9027.2, 239.9, 1936.0, 11791.1], [872690.2, 1107602.7, 1151460.3, 1248147.3, 1414297.0], [469330.5, 513154.1, 520139.1, 505029.1, 547041.0], [1214802.1, 1500160.1, 1680881.9, 1790598.1, 1929630.3], [290493.4, 367850.1, 250250.7, 264134.4, 292406.7], [-230.4, 8155.0, 15416.2, -20374.9, 7744.5], [2011036.1, 2286926.7, 2062059.9, 2006534.8, 2018667.5], [744516.8, 909963.6, 779271.9, 771713.6, 815890.3], [1266519.3, 1376963.1, 1282788.0, 1234821.2, 1202777.2], [2011036.1, 2286926.7, 2062059.9, 2006534.8, 2018667.5]]"
   ]
  },
  {
   "cell_type": "code",
   "execution_count": 23,
   "metadata": {},
   "outputs": [
    {
     "data": {
      "text/plain": [
       "12"
      ]
     },
     "execution_count": 23,
     "metadata": {},
     "output_type": "execute_result"
    }
   ],
   "source": [
    "len(a)"
   ]
  },
  {
   "cell_type": "code",
   "execution_count": 24,
   "metadata": {},
   "outputs": [
    {
     "data": {
      "text/plain": [
       "[1810715.7, 2140750.2, 2304229.6, 2421795.2, 2621743.2]"
      ]
     },
     "execution_count": 24,
     "metadata": {},
     "output_type": "execute_result"
    }
   ],
   "source": [
    "vals[0]"
   ]
  },
  {
   "cell_type": "code",
   "execution_count": 6,
   "metadata": {
    "collapsed": true
   },
   "outputs": [],
   "source": [
    "code = '005630'\n",
    "test = {'code': [code]*5,}"
   ]
  },
  {
   "cell_type": "code",
   "execution_count": 7,
   "metadata": {},
   "outputs": [
    {
     "data": {
      "text/plain": [
       "{'code': ['005630', '005630', '005630', '005630', '005630']}"
      ]
     },
     "execution_count": 7,
     "metadata": {},
     "output_type": "execute_result"
    }
   ],
   "source": [
    "test"
   ]
  },
  {
   "cell_type": "code",
   "execution_count": 9,
   "metadata": {
    "collapsed": true
   },
   "outputs": [],
   "source": [
    "d1 = {1:2, 3:4}\n",
    "d2 = {5:6, 7:8}\n",
    "d3 = {9:10, 11:12}"
   ]
  },
  {
   "cell_type": "code",
   "execution_count": 10,
   "metadata": {},
   "outputs": [
    {
     "ename": "TypeError",
     "evalue": "unsupported operand type(s) for +: 'dict' and 'dict'",
     "output_type": "error",
     "traceback": [
      "\u001b[0;31m---------------------------------------------------------------------------\u001b[0m",
      "\u001b[0;31mTypeError\u001b[0m                                 Traceback (most recent call last)",
      "\u001b[0;32m<ipython-input-10-63fbd26fe8e1>\u001b[0m in \u001b[0;36m<module>\u001b[0;34m()\u001b[0m\n\u001b[0;32m----> 1\u001b[0;31m \u001b[0md1\u001b[0m \u001b[0;34m+\u001b[0m \u001b[0md2\u001b[0m\u001b[0;34m\u001b[0m\u001b[0m\n\u001b[0m",
      "\u001b[0;31mTypeError\u001b[0m: unsupported operand type(s) for +: 'dict' and 'dict'"
     ]
    }
   ],
   "source": [
    "d1 + d2"
   ]
  },
  {
   "cell_type": "code",
   "execution_count": 2,
   "metadata": {
    "collapsed": true
   },
   "outputs": [],
   "source": [
    "ics = {'m_ics': '전기', 'w_ics': '전기'}"
   ]
  },
  {
   "cell_type": "code",
   "execution_count": 4,
   "metadata": {},
   "outputs": [
    {
     "data": {
      "text/plain": [
       "['전기', '전기', '전기', '전기', '전기']"
      ]
     },
     "execution_count": 4,
     "metadata": {},
     "output_type": "execute_result"
    }
   ],
   "source": [
    "['전기']*5"
   ]
  },
  {
   "cell_type": "code",
   "execution_count": 6,
   "metadata": {},
   "outputs": [],
   "source": [
    "df = pd.DataFrame({'A' : ['one', 'one', 'two', 'three'] * 3,\n",
    "                   'B' : ['A', 'B', 'C'] * 4,\n",
    "                   'C' : ['foo', 'foo', 'foo', 'bar', 'bar', 'bar'] * 2,\n",
    "                   'D' : np.random.randn(12),\n",
    "                   'E' : np.random.randn(12)})"
   ]
  },
  {
   "cell_type": "code",
   "execution_count": 7,
   "metadata": {},
   "outputs": [
    {
     "data": {
      "text/plain": [
       "0       one\n",
       "1       one\n",
       "2       two\n",
       "3     three\n",
       "4       one\n",
       "5       one\n",
       "6       two\n",
       "7     three\n",
       "8       one\n",
       "9       one\n",
       "10      two\n",
       "11    three\n",
       "Name: A, dtype: object"
      ]
     },
     "execution_count": 7,
     "metadata": {},
     "output_type": "execute_result"
    }
   ],
   "source": [
    "df.A"
   ]
  },
  {
   "cell_type": "code",
   "execution_count": 8,
   "metadata": {},
   "outputs": [
    {
     "data": {
      "text/plain": [
       "0       one\n",
       "1       one\n",
       "2       two\n",
       "3     three\n",
       "4       one\n",
       "5       one\n",
       "6       two\n",
       "7     three\n",
       "8       one\n",
       "9       one\n",
       "10      two\n",
       "11    three\n",
       "Name: A, dtype: object"
      ]
     },
     "execution_count": 8,
     "metadata": {},
     "output_type": "execute_result"
    }
   ],
   "source": [
    "df['A']"
   ]
  },
  {
   "cell_type": "code",
   "execution_count": 9,
   "metadata": {},
   "outputs": [
    {
     "data": {
      "text/plain": [
       "0       NaN\n",
       "1       one\n",
       "2       one\n",
       "3       two\n",
       "4     three\n",
       "5       one\n",
       "6       one\n",
       "7       two\n",
       "8     three\n",
       "9       one\n",
       "10      one\n",
       "11      two\n",
       "Name: A, dtype: object"
      ]
     },
     "execution_count": 9,
     "metadata": {},
     "output_type": "execute_result"
    }
   ],
   "source": [
    "df['A'].shift(1)"
   ]
  },
  {
   "cell_type": "code",
   "execution_count": null,
   "metadata": {
    "collapsed": true
   },
   "outputs": [],
   "source": []
  }
 ],
 "metadata": {
  "kernelspec": {
   "display_name": "Python [conda env:Crawler_Env]",
   "language": "python",
   "name": "conda-env-Crawler_Env-py"
  },
  "language_info": {
   "codemirror_mode": {
    "name": "ipython",
    "version": 3
   },
   "file_extension": ".py",
   "mimetype": "text/x-python",
   "name": "python",
   "nbconvert_exporter": "python",
   "pygments_lexer": "ipython3",
   "version": "3.6.2"
  }
 },
 "nbformat": 4,
 "nbformat_minor": 2
}
