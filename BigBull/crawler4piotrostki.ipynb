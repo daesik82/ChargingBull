{
 "cells": [
  {
   "cell_type": "markdown",
   "metadata": {
    "collapsed": true
   },
   "source": [
    "Implementation Plan. Part 1 - for the universe\n",
    "1. things to crawl to filter or create a portfolio universe\n",
    "   - 시가총액(Market Capitalization a.k.a \"market cap\")\n",
    "   - \"BV\" (Book Value, Asset - Liability = SH's Equity)\n",
    "   - PBR(Price-to-Book Ratio, 주가순자산비율)\n",
    "   - 상장주식수\n"
   ]
  },
  {
   "cell_type": "code",
   "execution_count": 3,
   "metadata": {
    "collapsed": true
   },
   "outputs": [],
   "source": [
    "#Import packages\n",
    "import requests \n",
    "from bs4 import BeautifulSoup"
   ]
  },
  {
   "cell_type": "code",
   "execution_count": 36,
   "metadata": {
    "collapsed": false
   },
   "outputs": [
    {
     "data": {
      "text/plain": [
       "\"options to choose \\n   1. 거래량 : 'quant'\\n   2. 시가 : 'open_val'\\n   3. 고가 : 'high_val'\\n   4. 저가 : 'loq_val' \\n   5. 매수호가 : 'ask_buy'\\n   6. 매도호가 : 'ask_sell' \\n   7. 매수총잔량 : 'buy_total'\\n   8. 매도총잔량 : 'sell_total'\\n   9. 거래대금(백만) : 'amount' \\n   10. 전일거래량 : 'prev_quant'\\n   11. 외국인비율 : 'frgn_rate'\\n   12. 상장주식수(천주) : 'listed_stock_cnt'\\n   13. 시가총액(억) : 'market_sum'\\n   14. 자산총계(억) : 'property_total'\\n   15. 부채총계(억) : 'debt_total' \\n   16. 매출액(억) : 'sales'\\n   17. 매출액증가율 : 'sales_increasing_rate'\\n   18. 영업이익(억) : 'operating_profit'\\n   19. 영업이익증가율 : 'operating_profit_increasing_rate' \\n   20. 당기순이익(억) : 'net_income'\\n   21. 주당순이익(원) : 'eps'\\n   22. 보통주배당금(원) : 'dividend'\\n   23. PER(배) : 'per'\\n   24. ROE(%) : 'roe'\\n   25. ROA(%) : 'roa'\\n   26. PBR(배) : 'pbr'\\n   27. 유보율(%) : 'reserve_ratio'\\n   \""
      ]
     },
     "execution_count": 36,
     "metadata": {},
     "output_type": "execute_result"
    }
   ],
   "source": [
    "# Crawler Building\n",
    "# setting URL\n",
    "\n",
    "url = \"http://finance.naver.com/sise/field_submit.nhn?menu=market_sum&returnUrl=http://finance.naver.com/sise/sise_market_sum.nhn?sosok={0}&page={1}&fieldlds={2}&fieldlds={3}&fieldlds={4}&fieldlds={5}&fieldlds={6}&fieldlds=p{7}\".format(0,\n",
    "                                                                                                                                                                                                                                            1, \n",
    "                                                                                                                                                                                                                                            'quant',\n",
    "                                                                                                                                                                                                                                            'listed_stock_cnt',\n",
    "                                                                                                                                                                                                                                            'market_sum',\n",
    "                                                                                                                                                                                                                                            'property_total',\n",
    "                                                                                                                                                                                                                                            'debt_total',\n",
    "                                                                                                                                                                                                                                            'pbr')\n",
    "\"\"\"options to choose \n",
    "   1. 거래량 : 'quant'\n",
    "   2. 시가 : 'open_val'\n",
    "   3. 고가 : 'high_val'\n",
    "   4. 저가 : 'loq_val' \n",
    "   5. 매수호가 : 'ask_buy'\n",
    "   6. 매도호가 : 'ask_sell' \n",
    "   7. 매수총잔량 : 'buy_total'\n",
    "   8. 매도총잔량 : 'sell_total'\n",
    "   9. 거래대금(백만) : 'amount' \n",
    "   10. 전일거래량 : 'prev_quant'\n",
    "   11. 외국인비율 : 'frgn_rate'\n",
    "   12. 상장주식수(천주) : 'listed_stock_cnt'\n",
    "   13. 시가총액(억) : 'market_sum'\n",
    "   14. 자산총계(억) : 'property_total'\n",
    "   15. 부채총계(억) : 'debt_total' \n",
    "   16. 매출액(억) : 'sales'\n",
    "   17. 매출액증가율 : 'sales_increasing_rate'\n",
    "   18. 영업이익(억) : 'operating_profit'\n",
    "   19. 영업이익증가율 : 'operating_profit_increasing_rate' \n",
    "   20. 당기순이익(억) : 'net_income'\n",
    "   21. 주당순이익(원) : 'eps'\n",
    "   22. 보통주배당금(원) : 'dividend'\n",
    "   23. PER(배) : 'per'\n",
    "   24. ROE(%) : 'roe'\n",
    "   25. ROA(%) : 'roa'\n",
    "   26. PBR(배) : 'pbr'\n",
    "   27. 유보율(%) : 'reserve_ratio'\n",
    "   \"\"\""
   ]
  },
  {
   "cell_type": "code",
   "execution_count": 37,
   "metadata": {
    "collapsed": true
   },
   "outputs": [],
   "source": [
    "# Requests\n",
    "req = requests.get(url)\n",
    "html = req.text"
   ]
  },
  {
   "cell_type": "code",
   "execution_count": 38,
   "metadata": {
    "collapsed": true
   },
   "outputs": [],
   "source": [
    "# BeautifulSoup - Making the soup\n",
    "soup = BeautifulSoup(html, 'html.parser')"
   ]
  },
  {
   "cell_type": "code",
   "execution_count": 57,
   "metadata": {
    "collapsed": false
   },
   "outputs": [
    {
     "ename": "IndexError",
     "evalue": "list index out of range",
     "output_type": "error",
     "traceback": [
      "\u001b[0;31m---------------------------------------------------------------------------\u001b[0m",
      "\u001b[0;31mIndexError\u001b[0m                                Traceback (most recent call last)",
      "\u001b[0;32m<ipython-input-57-48cfe0f5cef1>\u001b[0m in \u001b[0;36m<module>\u001b[0;34m()\u001b[0m\n\u001b[1;32m      1\u001b[0m \u001b[0;32mfor\u001b[0m \u001b[0ms\u001b[0m \u001b[0;32min\u001b[0m \u001b[0msoup\u001b[0m\u001b[0;34m.\u001b[0m\u001b[0mselect\u001b[0m\u001b[0;34m(\u001b[0m\u001b[0;34m'table.type_2 tr'\u001b[0m\u001b[0;34m)\u001b[0m\u001b[0;34m[\u001b[0m\u001b[0;36m1\u001b[0m\u001b[0;34m:\u001b[0m\u001b[0;34m]\u001b[0m\u001b[0;34m:\u001b[0m\u001b[0;34m\u001b[0m\u001b[0m\n\u001b[0;32m----> 2\u001b[0;31m     \u001b[0;32mfor\u001b[0m \u001b[0mv\u001b[0m \u001b[0;32min\u001b[0m \u001b[0ms\u001b[0m\u001b[0;34m.\u001b[0m\u001b[0mfind_all\u001b[0m\u001b[0;34m(\u001b[0m\u001b[0;34m'td'\u001b[0m\u001b[0;34m)\u001b[0m\u001b[0;34m[\u001b[0m\u001b[0;36m1\u001b[0m\u001b[0;34m]\u001b[0m\u001b[0;34m:\u001b[0m\u001b[0;34m\u001b[0m\u001b[0m\n\u001b[0m\u001b[1;32m      3\u001b[0m         \u001b[0mprint\u001b[0m\u001b[0;34m(\u001b[0m\u001b[0mv\u001b[0m\u001b[0;34m)\u001b[0m\u001b[0;34m\u001b[0m\u001b[0m\n",
      "\u001b[0;31mIndexError\u001b[0m: list index out of range"
     ]
    }
   ],
   "source": [
    "for s in soup.select('table.type_2 tr')[1:]:\n",
    "#     for v in s.find_all('td'):\n",
    "#         print(v)"
   ]
  },
  {
   "cell_type": "code",
   "execution_count": null,
   "metadata": {
    "collapsed": true
   },
   "outputs": [],
   "source": []
  }
 ],
 "metadata": {
  "anaconda-cloud": {},
  "kernelspec": {
   "display_name": "Python [conda env:ChargingBull]",
   "language": "python",
   "name": "conda-env-ChargingBull-py"
  },
  "language_info": {
   "codemirror_mode": {
    "name": "ipython",
    "version": 3
   },
   "file_extension": ".py",
   "mimetype": "text/x-python",
   "name": "python",
   "nbconvert_exporter": "python",
   "pygments_lexer": "ipython3",
   "version": "3.6.0"
  }
 },
 "nbformat": 4,
 "nbformat_minor": 1
}
