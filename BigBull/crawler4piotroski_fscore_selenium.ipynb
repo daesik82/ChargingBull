{
 "cells": [
  {
   "cell_type": "markdown",
   "metadata": {},
   "source": [
    "Implementation Plan. Part 2 - for F-Schore values\n",
    "1. Things to crawl to get f-score\n",
    "   - ROA --> independent\n",
    "   - CFO : cash flow from operations \n",
    "   - delta ROA \n",
    "   - Accrual\n",
    "   - delta lever \n",
    "   - delta liquid \n",
    "   - equity offer\n",
    "   - delta margin\n",
    "   - delta turnover "
   ]
  },
  {
   "cell_type": "code",
   "execution_count": 1,
   "metadata": {
    "collapsed": true
   },
   "outputs": [],
   "source": [
    "# Importing packages \n",
    "import requests\n",
    "from bs4 import BeautifulSoup\n",
    "from selenium import webdriver\n",
    "from selenium.webdriver.common.by import By\n",
    "\n",
    "import numpy as np\n",
    "import pandas as pd"
   ]
  },
  {
   "cell_type": "code",
   "execution_count": 2,
   "metadata": {
    "collapsed": true
   },
   "outputs": [],
   "source": [
    "# Headless Chrome setting : v60 above, no physical browser\n",
    "options = webdriver.ChromeOptions()\n",
    "options.add_argument('headless')\n",
    "options.add_argument('window-size=1920x1080')"
   ]
  },
  {
   "cell_type": "code",
   "execution_count": 3,
   "metadata": {
    "collapsed": false
   },
   "outputs": [],
   "source": [
    "# Starting a browser(chrome) using selenium : Chrome requires a physical driver \n",
    "driver = webdriver.Chrome('/Users/daesikkim/Downloads/chromedriver', chrome_options=options)\n",
    "driver.implicitly_wait(3)"
   ]
  },
  {
   "cell_type": "code",
   "execution_count": 4,
   "metadata": {
    "collapsed": true
   },
   "outputs": [],
   "source": [
    "# open a webpage\n",
    "driver.get('http://finance.naver.com/item/coinfo.nhn?code=005930')\n",
    "\n",
    "# move to a right frame\n",
    "frame = driver.find_element_by_css_selector(\"#coinfo_cp\")\n",
    "driver.switch_to.frame(frame)\n",
    "\n",
    "# click a right tab or button \n",
    "finstate_button = driver.find_element_by_css_selector(\"#header-menu > div.wrapper-menu > dl > dt:nth-of-type(3) > a\")\n",
    "finstate_button.click()"
   ]
  },
  {
   "cell_type": "code",
   "execution_count": 5,
   "metadata": {
    "collapsed": true
   },
   "outputs": [],
   "source": [
    "# get the page source - \"Income Statement\"\n",
    "html_income = driver.page_source"
   ]
  },
  {
   "cell_type": "code",
   "execution_count": 6,
   "metadata": {
    "collapsed": false
   },
   "outputs": [],
   "source": [
    "# make the soup!\n",
    "soup_income = BeautifulSoup(html_income, 'lxml')"
   ]
  },
  {
   "cell_type": "markdown",
   "metadata": {},
   "source": [
    "Values required for ROA, CFO(cash flow from operations), delta ROA\n",
    "1. for profitability \n",
    "   - net income / net income without extraordinary items : net income - extraordinary items(기타영업손익 및 기타영업외손익) \n",
    "   - total assets \n",
    "   - cash flow from operations "
   ]
  },
  {
   "cell_type": "code",
   "execution_count": 7,
   "metadata": {
    "collapsed": true
   },
   "outputs": [],
   "source": [
    "# get the page source - \"Balance sheet\" \n",
    "balancesheet_button = driver.find_element_by_css_selector(\"#rpt_tab2\")\n",
    "balancesheet_button.click()\n",
    "\n",
    "html_balance = driver.page_source"
   ]
  },
  {
   "cell_type": "code",
   "execution_count": 8,
   "metadata": {
    "collapsed": true
   },
   "outputs": [],
   "source": [
    "# make the soup! \n",
    "soup_balance = BeautifulSoup(html_balance, \"lxml\")"
   ]
  },
  {
   "cell_type": "code",
   "execution_count": 9,
   "metadata": {
    "collapsed": true
   },
   "outputs": [],
   "source": [
    "# get the page source - \"Cash Flow\"\n",
    "cashflow_button = driver.find_element_by_css_selector(\"#rpt_tab3\")\n",
    "cashflow_button.click()\n",
    "\n",
    "html_cash = driver.page_source"
   ]
  },
  {
   "cell_type": "code",
   "execution_count": 10,
   "metadata": {
    "collapsed": true
   },
   "outputs": [],
   "source": [
    "# make the soup! \n",
    "soup_cash = BeautifulSoup(html_cash, \"lxml\")"
   ]
  },
  {
   "cell_type": "markdown",
   "metadata": {},
   "source": [
    "Items required!!! \n",
    "1. From \"Income Statement\" \n",
    "   - net income / net income before extraordinary items --> 영업이익으로 대체 or 당기순이익 - 영업외이익\n",
    "   - sales --> 매출액\n",
    "   - profit --> 매출총이익(gross profit) \n",
    "   - COGS --> cost of goods sold(매출원가) \n",
    "   - gross margin --> sales - COGS \n",
    "2. From \"Balance Sheet\" \n",
    "   - total assets --> 자산총계 \n",
    "   - long term debt --> 비유동부채(long term liabilities) or 장기차입금.. \n",
    "   - current asset --> 유동자산 \n",
    "   - current liabilities --> 유동부채\n",
    "   - Shareholder's equity --> 자본총계\n",
    "3. From \"Cash Flow\" \n",
    "   - cash flow from operation --> 영업활동으로 인한 현금흐름"
   ]
  },
  {
   "cell_type": "code",
   "execution_count": 16,
   "metadata": {
    "collapsed": false
   },
   "outputs": [],
   "source": [
    "# values from 'Income Statement' \n",
    "operating_income = soup_income.select('#table-content > table > tbody > tr:nth-of-type(59) > td.num')\n",
    "extra_income = soup_income.select('#table-content > table > tbody > tr:nth-of-type(144) > td.num')\n",
    "total_sales = soup_income.select('#table-content > table > tbody > tr:nth-of-type(1) > td.num')\n",
    "gross_profit = soup_income.select('#table-content > table > tbody > tr:nth-of-type(26) > td.num')\n",
    "cogs = soup_income.select('#table-content > table > tbody > tr:nth-of-type(15) > td.num')"
   ]
  },
  {
   "cell_type": "code",
   "execution_count": 15,
   "metadata": {
    "collapsed": false
   },
   "outputs": [
    {
     "data": {
      "text/plain": [
       "[<td class=\"num ext0 cUp\">-230.4</td>,\n",
       " <td class=\"num ext1 \">8,155.0</td>,\n",
       " <td class=\"num ext2 \">15,416.2</td>,\n",
       " <td class=\"num ext3 cUp\">-20,374.9</td>,\n",
       " <td class=\"num ext4 \">7,744.5</td>,\n",
       " <td class=\"num ext5 \"> </td>,\n",
       " <td class=\"num ext6 noline-right \">138.0</td>,\n",
       " <td class=\"num ext7 noline-right \"> </td>]"
      ]
     },
     "execution_count": 15,
     "metadata": {},
     "output_type": "execute_result"
    }
   ],
   "source": [
    "# values from 'Balance Sheet' \n",
    "total_assets "
   ]
  },
  {
   "cell_type": "code",
   "execution_count": null,
   "metadata": {
    "collapsed": true
   },
   "outputs": [],
   "source": []
  }
 ],
 "metadata": {
  "anaconda-cloud": {},
  "kernelspec": {
   "display_name": "Python [conda env:Crawler_Env]",
   "language": "python",
   "name": "conda-env-Crawler_Env-py"
  },
  "language_info": {
   "codemirror_mode": {
    "name": "ipython",
    "version": 3
   },
   "file_extension": ".py",
   "mimetype": "text/x-python",
   "name": "python",
   "nbconvert_exporter": "python",
   "pygments_lexer": "ipython3",
   "version": "3.6.2"
  }
 },
 "nbformat": 4,
 "nbformat_minor": 2
}
