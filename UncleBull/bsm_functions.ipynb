{
 "cells": [
  {
   "cell_type": "code",
   "execution_count": 1,
   "metadata": {
    "collapsed": true
   },
   "outputs": [],
   "source": [
    "# Valuation of European call options in Black-Scholes-Merton Model\n",
    "# incl. Vega function and implied volatility estimation \n",
    "# bsm_functions.py"
   ]
  },
  {
   "cell_type": "code",
   "execution_count": 2,
   "metadata": {
    "collapsed": true
   },
   "outputs": [],
   "source": [
    "# Analytical Black-Scholes-Merton (BSM) formula"
   ]
  },
  {
   "cell_type": "code",
   "execution_count": 1,
   "metadata": {
    "collapsed": true
   },
   "outputs": [],
   "source": [
    "def bsm_call_value(S0, K, T, r, sigma):\n",
    "    ''' Valuation of European (one realization date exists) call option in BSM model.\n",
    "        Analytical formula. \n",
    "        \n",
    "        Parameters\n",
    "        ==========\n",
    "        S0 : float\n",
    "             initial stock/index level\n",
    "        K  : float\n",
    "             strike price\n",
    "        T  : float\n",
    "             maturity date (in year fractions)\n",
    "        r  : float\n",
    "             constant risk-free short rate\n",
    "        sigma : float\n",
    "             volatitlity factor in diffusion term \n",
    "        \n",
    "        Returns\n",
    "        =======\n",
    "        value : float\n",
    "             present value of the European call option\n",
    "    '''\n",
    "    \n",
    "    from math import log, sqrt, exp\n",
    "    from scipy import stats\n",
    "    \n",
    "    S0 = float(S0)\n",
    "    d1 = (log(S0 / K) + (r + 0.5 * sigma ** 2) * T) / (sigma * sqrt(T))\n",
    "    d2 = (log(S0 / K) + (r - 0.5 * sigma ** 2) * T) / (sigma * sqrt(T))\n",
    "    value = (S0 * stats.norm.cdf(d1, 0.0, 1.0) - K * exp(-r * T) * stats.norm.cdf(d2, 0.0, 1.0))\n",
    "    # stats.norm.cdf --> cumulative distribution function \n",
    "    #                    for normal distribution\n",
    "    \n",
    "    return value\n",
    "    "
   ]
  },
  {
   "cell_type": "code",
   "execution_count": 1,
   "metadata": {
    "collapsed": true
   },
   "outputs": [],
   "source": [
    "# Vega function\n",
    "def bsm_vega(S0, K, T, r, sigma):\n",
    "    '''Vega of European option in BSM model.\n",
    "    \n",
    "    Parameters\n",
    "    ==========\n",
    "    S0 : float\n",
    "         initial stock/index level\n",
    "    K  : float\n",
    "         strike price\n",
    "    T  : float\n",
    "         maturity date (in year fractions)\n",
    "    r  : float\n",
    "         constant risk-free rate\n",
    "    sigma : float\n",
    "         volatility factor in diffusion term\n",
    "         \n",
    "    Returns\n",
    "    =======\n",
    "    vega : float\n",
    "         partial derivative of BSM formula with respect to sigma, i.e. Vega\n",
    "    '''\n",
    "    \n",
    "    from math import log, sqrt\n",
    "    from scipy import stats\n",
    "    \n",
    "    S0 = float(S0)\n",
    "    d1 = log(S0 / K) + (r + 0.5 * sigma ** 2) * T / (sigma * sqrt(T)) \n",
    "    vega = S0 * stats.norm.cdf(d1, 0.0, 1.0) * sqrt(T)\n",
    "    \n",
    "    return vega\n"
   ]
  },
  {
   "cell_type": "code",
   "execution_count": 2,
   "metadata": {
    "collapsed": true
   },
   "outputs": [],
   "source": [
    "# Implied volatitlity function \n",
    "def bsm_call_imp_vol(S0, K, T, r, C0, sigma_est, it=100): \n",
    "    ''' Implied volatility of European call option in BSM model. \n",
    "    \n",
    "    Parameters\n",
    "    ==========\n",
    "    S0 : float \n",
    "         initila stock/index level\n",
    "    K  : float\n",
    "         strike price\n",
    "    T  : float \n",
    "         maturity date (in the fractions) \n",
    "    r  : float \n",
    "         constant risk-free short rate\n",
    "    sigma_est : float\n",
    "         estimate of impl. volatility\n",
    "    it : integer\n",
    "         number of iterations\n",
    "         \n",
    "    Returns \n",
    "    =======\n",
    "    sigma_est : float\n",
    "         numerically estimated implied volatility\n",
    "    '''\n",
    "    \n",
    "    for i in range(it):\n",
    "        sigma_est -= ((bsm_call_value(S0, K, T, r, sigma_est) - C0) / bsm_vega(S0, K, T, r, sigma_est))\n",
    "        "
   ]
  },
  {
   "cell_type": "code",
   "execution_count": null,
   "metadata": {
    "collapsed": true
   },
   "outputs": [],
   "source": []
  }
 ],
 "metadata": {
  "anaconda-cloud": {},
  "kernelspec": {
   "display_name": "Python [conda env:UncleBull]",
   "language": "python",
   "name": "conda-env-UncleBull-py"
  },
  "language_info": {
   "codemirror_mode": {
    "name": "ipython",
    "version": 3
   },
   "file_extension": ".py",
   "mimetype": "text/x-python",
   "name": "python",
   "nbconvert_exporter": "python",
   "pygments_lexer": "ipython3",
   "version": "3.6.1"
  }
 },
 "nbformat": 4,
 "nbformat_minor": 1
}
